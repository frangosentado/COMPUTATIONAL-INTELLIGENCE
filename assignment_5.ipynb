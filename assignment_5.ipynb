{
 "cells": [
  {
   "cell_type": "markdown",
   "id": "b66642bc",
   "metadata": {
    "id": "b66642bc"
   },
   "source": [
    "# Assignment 5: Neuroevolution\n",
    "\n",
    "**Goal**: Implement an Evolutionary Algorithm to optimize an Artificial Neural Network (ANN) based controller for the CartPole task in OpenAI Gym environment.\n",
    "\n",
    "CartPole evaluation environment functions are provided. Your goal is to implement your ANN to control the cartpole and use your Evolutionary Algorithm to optimize the ANN parameters (weights).\n",
    "\n",
    "Please answer the `Questions` and implement coding `Tasks` by filling **PLEASE FILL IN** sections. *Documentation* of your code is also important. You can find the grading scheme in implementation cells.\n",
    "\n",
    "  * Plagiarism is automatically checked and set to **0 points**\n",
    "\n",
    "  * It is allowed to learn from external resources but copying is not allowed. If you use any external resource, please cite them in the comments (e.g. `# source: https://...../` (see `fitness_function`))"
   ]
  },
  {
   "cell_type": "markdown",
   "id": "6d4169c0",
   "metadata": {
    "id": "6d4169c0"
   },
   "source": [
    "**Install Prerequisites**"
   ]
  },
  {
   "cell_type": "code",
   "execution_count": 1,
   "id": "42dec0be",
   "metadata": {
    "colab": {
     "base_uri": "https://localhost:8080/"
    },
    "id": "42dec0be",
    "outputId": "31089fe9-238e-4159-ade6-33f1830d2c3d"
   },
   "outputs": [
    {
     "name": "stdout",
     "output_type": "stream",
     "text": [
      "Requirement already satisfied: numpy in /Users/bebulcao/anaconda3/lib/python3.11/site-packages (1.26.4)\n",
      "Requirement already satisfied: matplotlib in /Users/bebulcao/anaconda3/lib/python3.11/site-packages (3.8.4)\n",
      "Requirement already satisfied: scipy in /Users/bebulcao/anaconda3/lib/python3.11/site-packages (1.11.1)\n",
      "Requirement already satisfied: contourpy>=1.0.1 in /Users/bebulcao/anaconda3/lib/python3.11/site-packages (from matplotlib) (1.0.5)\n",
      "Requirement already satisfied: cycler>=0.10 in /Users/bebulcao/anaconda3/lib/python3.11/site-packages (from matplotlib) (0.11.0)\n",
      "Requirement already satisfied: fonttools>=4.22.0 in /Users/bebulcao/anaconda3/lib/python3.11/site-packages (from matplotlib) (4.25.0)\n",
      "Requirement already satisfied: kiwisolver>=1.3.1 in /Users/bebulcao/anaconda3/lib/python3.11/site-packages (from matplotlib) (1.4.4)\n",
      "Requirement already satisfied: packaging>=20.0 in /Users/bebulcao/anaconda3/lib/python3.11/site-packages (from matplotlib) (23.1)\n",
      "Requirement already satisfied: pillow>=8 in /Users/bebulcao/anaconda3/lib/python3.11/site-packages (from matplotlib) (9.4.0)\n",
      "Requirement already satisfied: pyparsing>=2.3.1 in /Users/bebulcao/anaconda3/lib/python3.11/site-packages (from matplotlib) (3.0.9)\n",
      "Requirement already satisfied: python-dateutil>=2.7 in /Users/bebulcao/anaconda3/lib/python3.11/site-packages (from matplotlib) (2.8.2)\n",
      "Requirement already satisfied: six>=1.5 in /Users/bebulcao/anaconda3/lib/python3.11/site-packages (from python-dateutil>=2.7->matplotlib) (1.16.0)\n",
      "Note: you may need to restart the kernel to use updated packages.\n"
     ]
    }
   ],
   "source": [
    "# Run this cell to install the required libraries\n",
    "%pip install numpy matplotlib scipy"
   ]
  },
  {
   "cell_type": "markdown",
   "id": "7406fbfe",
   "metadata": {
    "id": "7406fbfe"
   },
   "source": [
    "**Imports**"
   ]
  },
  {
   "cell_type": "code",
   "execution_count": 2,
   "id": "96c0767a",
   "metadata": {
    "id": "96c0767a"
   },
   "outputs": [],
   "source": [
    "# Necessary libraries\n",
    "import matplotlib.pyplot as plt\n",
    "import numpy as np\n"
   ]
  },
  {
   "cell_type": "code",
   "execution_count": 3,
   "id": "bcc4a79c",
   "metadata": {
    "id": "bcc4a79c"
   },
   "outputs": [],
   "source": [
    "# Enables inline matplotib graphs\n",
    "%matplotlib inline\n",
    "# Comment the line above and uncomment the lines below to have interactive plots\n",
    "# WARN: may cause dependency issues\n",
    "# %matplotlib qt5\n",
    "# %pip install PyQt5\n",
    "# plt.ion()"
   ]
  },
  {
   "cell_type": "code",
   "execution_count": 8,
   "id": "0aab1f3d",
   "metadata": {},
   "outputs": [
    {
     "name": "stdout",
     "output_type": "stream",
     "text": [
      "Collecting pygame\n",
      "  Obtaining dependency information for pygame from https://files.pythonhosted.org/packages/4d/84/5a03c47c76020c4f46354cf8c3f2d7926592c1ff9370f0ad91a3bb577b54/pygame-2.5.2-cp311-cp311-macosx_11_0_arm64.whl.metadata\n",
      "  Downloading pygame-2.5.2-cp311-cp311-macosx_11_0_arm64.whl.metadata (13 kB)\n",
      "Downloading pygame-2.5.2-cp311-cp311-macosx_11_0_arm64.whl (12.2 MB)\n",
      "\u001b[2K   \u001b[90m━━━━━━━━━━━━━━━━━━━━━━━━━━━━━━━━━━━━━━━━\u001b[0m \u001b[32m12.2/12.2 MB\u001b[0m \u001b[31m9.8 MB/s\u001b[0m eta \u001b[36m0:00:00\u001b[0m:00:01\u001b[0m00:01\u001b[0m\n",
      "\u001b[?25hInstalling collected packages: pygame\n",
      "Successfully installed pygame-2.5.2\n",
      "Note: you may need to restart the kernel to use updated packages.\n"
     ]
    }
   ],
   "source": [
    "%pip install pygame\n",
    "import pygame"
   ]
  },
  {
   "cell_type": "code",
   "execution_count": 4,
   "id": "35be240b",
   "metadata": {
    "colab": {
     "base_uri": "https://localhost:8080/"
    },
    "id": "35be240b",
    "lines_to_next_cell": 2,
    "outputId": "921d6587-2cf3-4edf-b90b-58d67e02e96d"
   },
   "outputs": [
    {
     "name": "stdout",
     "output_type": "stream",
     "text": [
      "Collecting gymnasium\n",
      "  Obtaining dependency information for gymnasium from https://files.pythonhosted.org/packages/a8/4d/3cbfd81ed84db450dbe73a89afcd8bc405273918415649ac6683356afe92/gymnasium-0.29.1-py3-none-any.whl.metadata\n",
      "  Downloading gymnasium-0.29.1-py3-none-any.whl.metadata (10 kB)\n",
      "Requirement already satisfied: numpy>=1.21.0 in /Users/bebulcao/anaconda3/lib/python3.11/site-packages (from gymnasium) (1.26.4)\n",
      "Requirement already satisfied: cloudpickle>=1.2.0 in /Users/bebulcao/anaconda3/lib/python3.11/site-packages (from gymnasium) (2.2.1)\n",
      "Requirement already satisfied: typing-extensions>=4.3.0 in /Users/bebulcao/anaconda3/lib/python3.11/site-packages (from gymnasium) (4.11.0)\n",
      "Collecting farama-notifications>=0.0.1 (from gymnasium)\n",
      "  Obtaining dependency information for farama-notifications>=0.0.1 from https://files.pythonhosted.org/packages/05/2c/ffc08c54c05cdce6fbed2aeebc46348dbe180c6d2c541c7af7ba0aa5f5f8/Farama_Notifications-0.0.4-py3-none-any.whl.metadata\n",
      "  Downloading Farama_Notifications-0.0.4-py3-none-any.whl.metadata (558 bytes)\n",
      "Downloading gymnasium-0.29.1-py3-none-any.whl (953 kB)\n",
      "\u001b[2K   \u001b[90m━━━━━━━━━━━━━━━━━━━━━━━━━━━━━━━━━━━━━━━━\u001b[0m \u001b[32m953.9/953.9 kB\u001b[0m \u001b[31m11.5 MB/s\u001b[0m eta \u001b[36m0:00:00\u001b[0m00:01\u001b[0m00:01\u001b[0m\n",
      "\u001b[?25hDownloading Farama_Notifications-0.0.4-py3-none-any.whl (2.5 kB)\n",
      "Installing collected packages: farama-notifications, gymnasium\n",
      "Successfully installed farama-notifications-0.0.4 gymnasium-0.29.1\n",
      "Note: you may need to restart the kernel to use updated packages.\n"
     ]
    }
   ],
   "source": [
    "%pip install gymnasium\n",
    "import gymnasium as gym"
   ]
  },
  {
   "cell_type": "markdown",
   "id": "5d1a0353",
   "metadata": {
    "id": "5d1a0353"
   },
   "source": [
    "---\n",
    "**Question 1 (0-0.25-0.5 pt):** Following link provides more information about the CartPole environemnt we would like to find an ANN to control: https://www.gymlibrary.dev/environments/classic_control/cart_pole/\n",
    "\n",
    "Please have a look at the link and note the observation and action spaces, how many dimensions they have? Are they continous or discrete, and what kinds of value they can get?\n",
    "\n",
    "**Answer:** The action space is discrete, while the observation space is continuous. The observation space has 4 dimensions (position, velocity, angle and the pole's angular velocity), and action space has 1 (a binary variable which indicates whether the cart goes right (1) or left (0)). The range in which observation values can vary are:\n",
    "\n",
    "- Cart position: between -4.8 and 4.8\n",
    "- Cart velocity: between -Inf and Inf\n",
    "- Pole angle: approximately between -0.418 radians (-24°) and 0.418 radians (24°)\n",
    "- Pole angular velocity: between -Inf and Inf"
   ]
  },
  {
   "cell_type": "markdown",
   "id": "5a4de2e7",
   "metadata": {
    "id": "5a4de2e7"
   },
   "source": [
    "---\n",
    "**Question 2 (0-0.25-0.5 pt):** What is your proposed ANN architecture and why? Please also discuss the activation functions you choose.\n",
    "\n",
    "**Answer:** My proposed ANN architecture is a Feedforward Neural Network, because of the low dimensionality and simplicity of the problem. Also, there are no spatial hierarchies, such as in images, which would require more complex architectures, such as a CNN.\n",
    "\n",
    "The activation functions I chose are the Rectified Linear Unit, to introduce non-linearity with low computing cost, and a final Softmax activation function, to output 1 value between 0 and 1, so the model can decide the next action based on that value (> 0.5 right, else left)"
   ]
  },
  {
   "cell_type": "markdown",
   "id": "af2a7ba8",
   "metadata": {
    "id": "af2a7ba8"
   },
   "source": [
    "---\n",
    "**Task 1: Implementation of Evolutionary Algrotihm (0-1.6-3.8-4.2-5 pt):** Implement your evolutionary algorithm to find an ANN controller for the CartPole task."
   ]
  },
  {
   "cell_type": "code",
   "execution_count": 15,
   "id": "8b508e9c",
   "metadata": {
    "id": "8b508e9c",
    "lines_to_next_cell": 2
   },
   "outputs": [],
   "source": [
    "#################################\n",
    "# Grading\n",
    "# 0 pts if the code does not work, code works but it is fundamentally incorrect\n",
    "# 1.6 pts if the code works but some functions are incorrect and it is badly explained\n",
    "# 3.8 pts if the code works but some functions are incorrect but it is explained well\n",
    "# 4.2 pts if the code works very well aligned with the task without any mistakes, but it is badly explained\n",
    "# 5 pts if the code works very well aligned with the task without any mistakes, and it is well explained\n",
    "################################################################\n",
    "\n",
    "# Artificial Neural Network parameters (weights)\n",
    "# See here: https://www.gymlibrary.dev/environments/classic_control/cart_pole/ for input and output space\n",
    "# PLEASE SPECIFY BELOW\n",
    "inp = 4 # Number of input neurons\n",
    "hid = 16 # Number of hidden neurons\n",
    "out = 1 # Nubmer of output neurons\n",
    "###################\n",
    "\n",
    "#Open AI gym environment\n",
    "env = gym.make(\"CartPole-v1\")\n",
    "\n",
    "# CartPole evaluation function with video recording\n",
    "def cartpole_record_video(x):\n",
    "    tmp_env = gym.make(\"CartPole-v1\", render_mode=\"rgb_array\")\n",
    "\n",
    "    # Video recording function - be sure to check the folder path - you should see the video here:content/video/cartpole\n",
    "    env = gym.wrappers.RecordVideo(env=tmp_env, video_folder=\"content/video/cartpole\", name_prefix=\"cartpole\")\n",
    "\n",
    "    ###########\n",
    "    # PLEASE FILL IN\n",
    "    # Hint: x is an individual in evolutionary algorithms and needs to map to the connection weights of ANNs\n",
    "    #########\n",
    "\n",
    "\n",
    "    # Reset environment\n",
    "    observation, info = env.reset(seed = 0)\n",
    "\n",
    "    env.start_video_recorder()\n",
    "\n",
    "\n",
    "    rew = 0 # Initial reward\n",
    "    step = 0; #step counter\n",
    "    done = False\n",
    "    maxStep = 1000  # maximum number of steps\n",
    "    while not done and step<1000: # run nStep number of time\n",
    "\n",
    "        ###################\n",
    "        # PLEASE FILL IN\n",
    "        # Hint: Provide input to ANN and find the output to be the action\n",
    "        #perform forward pass to get action values\n",
    "        action_values = forward(x, observation)\n",
    "        #select the index of the action with the highest value (0 or 1, as expected by the model)\n",
    "        action = np.argmax(action_values)\n",
    "        # action should be provided based on the output of the artifial neural network\n",
    "        observation, reward, done, tr, info = env.step(action)\n",
    "        step+=1 # step counter\n",
    "        rew = rew + reward # after each step increment reward\n",
    "        env.render()\n",
    "\n",
    "    env.close_video_recorder()\n",
    "    env.close()\n",
    "    return np.minimum(maxStep, rew) # return the reward or maxStep (if maxStep < 1000, this means that pole fell)\n",
    "\n",
    "\n",
    "\n",
    "\n",
    "# CartPole evaluation function for visualizing the cartpole environment\n",
    "def cartpole_visualize(x):\n",
    "    tmp_env = gym.make(\"CartPole-v1\", render_mode=\"human\")\n",
    "\n",
    "    ###########\n",
    "    # PLEASE FILL IN\n",
    "    # Hint: x is an individual in evolutionary algorithms and needs to map to the connection weights of ANNs\n",
    "\n",
    "    #########\n",
    "\n",
    "    # Reset environment\n",
    "    observation, info = tmp_env.reset(seed = 0)\n",
    "\n",
    "    rew = 0 # Initial reward\n",
    "    step = 0; #step counter\n",
    "    done = False\n",
    "    maxStep = 1000  # maximum number of steps\n",
    "    while not done and step<1000: # run nStep number of time\n",
    "\n",
    "        ###################\n",
    "        # PLEASE FILL IN\n",
    "        # Hint: Provide input to ANN and find the output to be the action\n",
    "        action_value = forward(x, observation)\n",
    "        #output is sigmoid. If value is > 0.5, go right, else go left\n",
    "        if action_value > 0.5:\n",
    "          action = 1\n",
    "        else:\n",
    "          action = 0\n",
    "        # action = np.argmax(action_values)\n",
    "        # action should be provided based on the output of the artifial neural network\n",
    "        observation, reward, done, tr, info = tmp_env.step(action)\n",
    "        step+=1 # step counter\n",
    "        rew = rew + reward # after each step increment reward\n",
    "        tmp_env.render()\n",
    "\n",
    "    tmp_env.close()\n",
    "    return np.minimum(maxStep, rew) # return the reward or maxStep (if maxStep < 1000, this means that pole fell)\n",
    "\n",
    "# CartPole evaluation function\n",
    "def cartpole(x):\n",
    "\n",
    "    ###########\n",
    "    # PLEASE FILL IN\n",
    "    # Hint: x is an individual in evolutionary algorithms and needs to map to the connection weights of ANNs\n",
    "    #########\n",
    "\n",
    "    # Reset environment\n",
    "    observation, info = env.reset(seed = 0)\n",
    "    rew = 0 # Initial reward\n",
    "    step = 0 #step counter\n",
    "    done = False\n",
    "    maxStep = 1000  # maximum number of steps\n",
    "    while not done and step<1000:\n",
    "        ###################\n",
    "        # PLEASE FILL IN\n",
    "        # Hint: Provide input to ANN and find the output to be the action\n",
    "        #perform forward pass to get action values\n",
    "        action_value = forward(x, observation)\n",
    "        #output is sigmoid. If value is > 0.5, go right, else go left\n",
    "        if action_value > 0.5:\n",
    "          action = 1\n",
    "        else:\n",
    "          action = 0\n",
    "        # action should be provided based on the output of the artifial neural network\n",
    "        observation, reward, done, tr, info = env.step(action)\n",
    "        step+=1 # step counter\n",
    "        rew = rew + reward # after each step increment reward\n",
    "\n",
    "    env.close()\n",
    "    return np.minimum(maxStep, rew) # return the reward or maxStep (if maxStep < 1000, this means that pole fell)\n",
    "\n",
    "def relu(x):\n",
    "    return np.maximum(0,x)\n",
    "\n",
    "def sigmoid(x):\n",
    "    return 1/(1 + np.exp(-x))\n",
    "\n",
    "def initialize_population(population_size):\n",
    "\n",
    "    population = []\n",
    "\n",
    "    for _ in range(population_size):\n",
    "        #each individual in a population is a List object containing the weight matrices\n",
    "        #weight matrices are matrices which store the weights of the connections\n",
    "        #between neurons of sequential layers\n",
    "        #SHAPE:\n",
    "          #rows: number of post-synaptic neurons\n",
    "          #columns: number of pre-synaptic neurons\n",
    "        #NOTATION:\n",
    "          #Whi: weights of input-hidden connections\n",
    "          #Woh: weights of hidden-output connections\n",
    "\n",
    "        whi = np.random.randn(hid,inp)\n",
    "        woh = np.random.randn(out,hid)\n",
    "\n",
    "        x = [whi.flatten(),woh.flatten()]\n",
    "\n",
    "        population.append(x)\n",
    "\n",
    "    return population\n",
    "\n",
    "def forward(x,observation):\n",
    "    #set the input layer to the current observation state\n",
    "    ai = np.asarray(observation)\n",
    "\n",
    "    #get the weights of the network, reshapes to do multiplications\n",
    "    whi = x[0].reshape(hid,inp)\n",
    "    woh = x[1].reshape(out,hid)\n",
    "\n",
    "    #computes hidden layer activations\n",
    "\n",
    "    ah = relu(np.dot(whi,ai))\n",
    "\n",
    "    #computes output layer activations\n",
    "\n",
    "    ao = sigmoid(np.dot(woh,ah))\n",
    "\n",
    "    return ao\n",
    "\n",
    "\n",
    "def evaluation(x,objective_function):\n",
    "    \"\"\"Evaluate the whole population and return the fitness of each.\"\"\"\n",
    "    return [objective_function(solution) for solution in x]\n",
    "\n",
    "def parent_selection(x, f):\n",
    "    \"\"\"Select parents for the next generation\"\"\"\n",
    "\n",
    "    ################################################################\n",
    "\n",
    "    x_parents = []\n",
    "    f_parents = []\n",
    "    total_fitness = int(np.ceil(np.nansum(f)))\n",
    "    selection_vector = []\n",
    "    positions_occupied = 0\n",
    "\n",
    "#      print(f\"total fitness {total_fitness}\")\n",
    "    for ((i,individual),fitness) in zip(enumerate(x),f):\n",
    "        try:\n",
    "            positions_occupied = int(np.ceil(fitness))\n",
    "        except Exception as e:\n",
    "            pass\n",
    "\n",
    "        for _ in range(positions_occupied):\n",
    "            selection_vector.append(i)\n",
    "#        print(\"idividual, positions_occupied\", individual, positions_occupied)\n",
    "#        print(\"filled selection_vector\", selection_vector[last_position:last_position+positions_occupied])\n",
    "#        print(last_position)\n",
    "\n",
    "\n",
    "    for i in range(len(x)):\n",
    "        random_selection_index = np.random.randint(low=0,high=len(selection_vector))\n",
    "#        print(f\"rand select index {random_selection_index}\")\n",
    "        parent_index = selection_vector[random_selection_index]\n",
    "        x_parents.append(x[parent_index])\n",
    "#        print(f\"#{i} selected parent: {selection_vector[random_selection_index]}\")\n",
    "        f_parents.append(f[parent_index])\n",
    "#        print(f\"#{i} selected fitness: {fitness_selection_vector[random_selection_index]}\")\n",
    "\n",
    "        ####################################\n",
    "    return x_parents, f_parents\n",
    "\n",
    "def crossover(x_parents, p_crossover):\n",
    "    \"\"\"Perform crossover to create offsprings.\"\"\"\n",
    "    # performs\n",
    "    ################################################################\n",
    "    # PLEASE FILL IN\n",
    "    # create a new empty array for the offspring\n",
    "    offspring = []\n",
    "    n_individuals = len(x_parents)\n",
    "\n",
    "    whi_dimensions = x_parents[0][0].shape\n",
    "    woh_dimensions = x_parents[0][1].shape\n",
    "    for i in range(0,n_individuals,2):\n",
    "        individual1 = [np.zeros(whi_dimensions),np.zeros(woh_dimensions)]\n",
    "        individual2 = [np.zeros(whi_dimensions),np.zeros(woh_dimensions)]\n",
    "        # flatten the weight matrices to perform easier crossover operations\n",
    "        flattened_whi_p1 = x_parents[i][0].flatten()\n",
    "        flattened_woh_p1 = x_parents[i][1].flatten()\n",
    "\n",
    "        flattened_whi_p2 = x_parents[i+1][0].flatten()\n",
    "        flattened_woh_p2 = x_parents[i+1][1].flatten()\n",
    "\n",
    "        whi_point_of_crossover = np.random.randint(low=0,high=len(flattened_whi_p1))\n",
    "        woh_point_of_crossover = np.random.randint(low=0,high=len(flattened_whi_p2))\n",
    "\n",
    "        if np.random.random() < p_crossover: #simulates probability of crossover\n",
    "            individual1[0] = np.concatenate((x_parents[i][0][:whi_point_of_crossover],x_parents[i+1][0][whi_point_of_crossover:]))\n",
    "            individual1[1] = np.concatenate((x_parents[i][1][:woh_point_of_crossover],x_parents[i+1][1][woh_point_of_crossover:]))\n",
    "\n",
    "            individual2[0] = np.concatenate((x_parents[i][0][whi_point_of_crossover:],x_parents[i+1][0][:whi_point_of_crossover]))\n",
    "            individual2[1] = np.concatenate((x_parents[i][1][woh_point_of_crossover:],x_parents[i+1][1][:woh_point_of_crossover]))\n",
    "\n",
    "            offspring.append(individual1)\n",
    "            offspring.append(individual2)\n",
    "        else: #if not selected for crossover, copy the previous generation\n",
    "            individual1[0] = np.copy(x_parents[i][0])\n",
    "            individual1[1] = np.copy(x_parents[i][1])\n",
    "\n",
    "            individual2[0] = np.copy(x_parents[i+1][0])\n",
    "            individual2[1] = np.copy(x_parents[i+1][1])\n",
    "\n",
    "            offspring.append(individual1)\n",
    "            offspring.append(individual2)\n",
    "\n",
    "        ################################################################\n",
    "\n",
    "\n",
    "    return offspring\n",
    "\n",
    "\n",
    "def mutation(x, mutation_rate):\n",
    "    \"\"\"Apply mutation to an individual.\"\"\"\n",
    "    ################################################################\n",
    "    # PLEASE FILL IN\n",
    "    #gets the weigh matrices size to sample random index in the ranx\n",
    "    whi_size = x[0][0].shape[0]\n",
    "    woh_size = x[0][1].shape[0]\n",
    "    for individual in x:\n",
    "        #to simulate probability of mutation\n",
    "        if np.random.random() < mutation_rate:\n",
    "              #calculate standard deviation to be used in the mutation equation\n",
    "            whi_std_dev = np.nanstd(individual[0])\n",
    "            woh_std_dev = np.nanstd(individual[1])\n",
    "            #randomly pick an index and a mutation\n",
    "            whi_mutation_index = np.random.randint(low=0,high=whi_size)\n",
    "            woh_mutation_index = np.random.randint(low=0,high=woh_size)\n",
    "\n",
    "              #mutates\n",
    "            individual[0][whi_mutation_index] = individual[0][whi_mutation_index] + whi_std_dev * np.random.randn()\n",
    "            individual[1][woh_mutation_index] = individual[1][woh_mutation_index] + woh_std_dev * np.random.randn()\n",
    "  ################################################################\n",
    "    return x\n",
    "\n",
    "\n",
    "def survivor_selection(x, f, x_offspring, f_offspring):\n",
    "    \"\"\"Select the survivors, for the population of the next generation\"\"\"\n",
    "\n",
    "    ################################################################\n",
    "\n",
    "    top_performing_indices = []\n",
    "\n",
    "    population = x + x_offspring\n",
    "    population_fitness = np.concatenate((f,f_offspring))\n",
    "\n",
    "    fitness_copy = np.copy(population_fitness)\n",
    "\n",
    "    survivors = []\n",
    "    survivor_fitness = []\n",
    "\n",
    "    #get the top performing individuals from the previous generations\n",
    "    for _ in range(len(x)):\n",
    "        max_index = np.argmax(fitness_copy)\n",
    "        top_performing_indices.append(max_index)\n",
    "        fitness_copy[max_index] = 0\n",
    "\n",
    "\n",
    "\n",
    "    for i,index in enumerate(top_performing_indices):\n",
    "        survivors.append(population[index])\n",
    "        survivor_fitness.append(population_fitness[index])\n",
    "\n",
    "    x = survivors\n",
    "    f = np.asarray(survivor_fitness)\n",
    "\n",
    "    ################################################################\n",
    "\n",
    "    return x, f\n",
    "\n",
    "\n",
    "\n",
    "# Implement your Evolutionary Algorithm to find the ANN weigths that can balance the CartPole\n",
    "# Feel free to add any functions, such as initialization, crossover, etc.. to make it work!\n",
    "def ea(\n",
    "    # hyperparameters of the algorithm\n",
    "    population_size,\n",
    "    max_fit_evals,  # Maximum number of evaluations\n",
    "    p_crossover,  # Probability of performing crossover operator\n",
    "    m_rate,  # mutation rate\n",
    "    objective_function,  # objective function to be minimized\n",
    "):\n",
    "    ###################\n",
    "    # PLEASE FILL IN\n",
    "    # Hint: your implementation of your evolutionary algorithm\n",
    "    # You may use the code you previously implemented during the course\n",
    "\n",
    "\n",
    "    # Calculate the maximum number of generations\n",
    "    # Maximum number of function evaluations should be the same independent of the population size\n",
    "    max_generations = int(max_fit_evals / population_size)  # DO NOT CHANGE\n",
    "\n",
    "    x = initialize_population(population_size=population_size)\n",
    "    f = evaluation(x,objective_function)\n",
    "\n",
    "    ################################################################\n",
    "\n",
    "    # Find the best individual and append to a list to keep track in each generation\n",
    "    idx = np.argmax(f)\n",
    "    x_best = [x[idx]]\n",
    "    f_best = [f[idx]]\n",
    "\n",
    "    # Loop over the generations\n",
    "    for i in range(max_generations - 1):\n",
    "        # Perform the EA steps\n",
    "\n",
    "        ################################################################\n",
    "\n",
    "        # PLEASE FILL IN\n",
    "\n",
    "        #select parents for the next generation\n",
    "\n",
    "        parents,parents_fitness = parent_selection(x,f)\n",
    "\n",
    "        #generate offspring from crossover of parents\n",
    "\n",
    "        offspring = crossover(parents,p_crossover)\n",
    "\n",
    "        #mutate offspring\n",
    "        mutated_offspring = mutation(offspring,m_rate)\n",
    "\n",
    "        #get the offspring fitness to be passed to survival_selection\n",
    "        offspring_fitness = evaluation(mutated_offspring,objective_function)\n",
    "\n",
    "        x,f = survivor_selection(parents,f,offspring,offspring_fitness)\n",
    "\n",
    "        ################################################################\n",
    "\n",
    "        # Find the best individual in current generation and add to the list\n",
    "\n",
    "        idx = np.argmax(f)\n",
    "        xi_best = x[idx]\n",
    "        fi_best = f[idx]\n",
    "\n",
    "\n",
    "        if fi_best > f_best[-1]:\n",
    "            x_best.append(xi_best)\n",
    "            f_best.append(fi_best)\n",
    "        else:\n",
    "            x_best.append(x_best[-1])\n",
    "            f_best.append(f_best[-1])\n",
    "\n",
    "#         print(f\"GENERATION: {i}\")\n",
    "#         print(f\"MAX FIT: {f_best[-1]}\")\n",
    "\n",
    "\n",
    "    return x_best, f_best  # return the best solution (ANN weights) and the fitness in each generation"
   ]
  },
  {
   "cell_type": "markdown",
   "id": "52ddb0a4",
   "metadata": {
    "id": "52ddb0a4"
   },
   "source": [
    "#### Check Your Implementation: Running The Evolutionary Algorithm\n",
    "\n",
    "Run the cell below, if you implemented everything correctly, you should see the algorithm running. Furthermore,"
   ]
  },
  {
   "cell_type": "code",
   "execution_count": 41,
   "id": "e85066e6",
   "metadata": {
    "colab": {
     "base_uri": "https://localhost:8080/"
    },
    "id": "e85066e6",
    "lines_to_next_cell": 2,
    "outputId": "b7b2b773-4348-4b3b-c04b-462cff952e2e"
   },
   "outputs": [
    {
     "name": "stdout",
     "output_type": "stream",
     "text": [
      "Best ANN parameters found: [array([-0.57615891,  0.94807077, -0.49591409,  2.00737083, -0.81709426,\n",
      "        0.55350281,  0.27319428,  0.00804584,  2.65504468, -1.29596026,\n",
      "        0.55505501,  1.66407607,  1.02225236,  1.30019532,  0.21944314,\n",
      "        1.22831356,  1.06812075,  0.28500125, -1.72270527,  1.30726794,\n",
      "       -0.18737677, -0.97598164,  0.68128672, -0.14625306, -0.8716835 ,\n",
      "        0.52319211,  1.80223478,  0.22499432, -0.7393161 ,  0.52978904,\n",
      "        0.35482674,  0.88157424,  0.16370838,  0.21557218, -0.9851135 ,\n",
      "        0.13877976,  0.45178999, -0.17627559,  1.56497207, -1.02539307,\n",
      "       -0.29174935,  0.73569026,  0.14506528,  0.5363008 ,  1.23742389,\n",
      "        0.26514073, -1.24337636,  0.76275739,  1.74329504,  0.02847262,\n",
      "       -0.65664452, -1.77575838, -0.19277662,  0.02913667,  0.28161195,\n",
      "       -1.54978435,  0.59288271, -0.05497095, -1.90330249, -0.7080925 ,\n",
      "       -0.57730705,  0.22188582, -0.16109485, -1.38330955]), array([ 0.58378485,  0.59053011,  0.21769609,  0.96147145, -0.66767247,\n",
      "       -0.86156887,  0.08385022,  0.50552612, -1.57871577,  0.19707582,\n",
      "        0.73713788, -0.12665707, -0.48604633, -0.83775537, -0.65886238,\n",
      "       -0.26291945])]\n",
      "Best fitnes found: 1000.0\n"
     ]
    }
   ],
   "source": [
    "# Dummy parameters, please add or remove based on your implementation\n",
    "kwargs = {\n",
    "    \"population_size\": 1000,\n",
    "    \"max_fit_evals\": 1000,  # maximum number of fitness evaluations\n",
    "    \"p_crossover\": 0.9,  # crossover probability\n",
    "    \"m_rate\": 0.9,  # mutation rate\n",
    "    \"objective_function\": cartpole,\n",
    "}\n",
    "# Run your algorithm once and find the best ANN weigths found\n",
    "env = gym.make(\"CartPole-v1\")\n",
    "\n",
    "observation, info = env.reset(seed = 0)\n",
    "x_best, f_best = ea(**kwargs)\n",
    "\n",
    "# Print the best ANN weigths found and best fitness\n",
    "print(\"Best ANN parameters found:\",x_best[-1])\n",
    "print(\"Best fitnes found:\",f_best[-1])\n",
    "\n",
    "# Evaluate your ANN weights again and record the video\n",
    "if f_best[-1] >= 1000:\n",
    "#   cartpole_record_video(x_best[-1])\n",
    "  cartpole_visualize(x_best[-1])\n",
    "else:\n",
    "  print(\"The best fitness 1000 was not found, try again!!\")"
   ]
  },
  {
   "cell_type": "markdown",
   "id": "7e862cf9",
   "metadata": {
    "id": "7e862cf9"
   },
   "source": [
    "---\n",
    "**Question 3 (0-0.25-0.5 pt):** Please comment on the behavior of the final solution. Were you able to find the best solution (i.e. ANN weights which achieves best fitness: 1000) and was it possible to controll the CartPole task without letting the the pole fall?\n",
    "\n",
    "**Answer:** I was able to find the best solution, and it was also possible to control the CartPole withot letting the pole fall. It took some adjustments to achieve with more frequency the best result, like increasing the mutation rate to 0.9. Apart from that, everything went smoothly."
   ]
  },
  {
   "cell_type": "markdown",
   "id": "3dfd08c2",
   "metadata": {
    "id": "3dfd08c2",
    "lines_to_next_cell": 2
   },
   "source": [
    "**Average results of your algorithm**\n",
    "\n",
    "Remember that the EAs are sthocastic algorithms that can produce different results as a result of independent runs.\n",
    "\n",
    "Therefore, we would like to see the average results and standard deviations.\n"
   ]
  },
  {
   "cell_type": "markdown",
   "id": "db881769",
   "metadata": {
    "id": "db881769"
   },
   "source": [
    "---\n",
    "**Task 2 (0-1.5-3 pt):** Please run your algorithm for at least 10 times and plot the average results and standard deviations. Below, you may add as many cells as you need for this implementation and plot functions. You may use previous code you have developed/used during the course."
   ]
  },
  {
   "cell_type": "code",
   "execution_count": 19,
   "id": "dYusMUcb2B5_",
   "metadata": {
    "id": "dYusMUcb2B5_"
   },
   "outputs": [],
   "source": [
    "def calculate_mean_std(f_best):\n",
    "    \"\"\"This is a helper function to calculate the mean and standard deviation of the best fitness values.\"\"\"\n",
    "    f_best = np.array(f_best)\n",
    "    avg = np.mean(f_best, axis=0)\n",
    "    std = np.std(f_best, axis=0)\n",
    "    return avg, std"
   ]
  },
  {
   "cell_type": "code",
   "execution_count": null,
   "id": "F_gnPvOk2DaR",
   "metadata": {
    "id": "F_gnPvOk2DaR"
   },
   "outputs": [],
   "source": [
    "def generate_subplot_function(\n",
    "    avgs_experiment_1,\n",
    "    stds_experiment_1,\n",
    "    labels,\n",
    "    avgs_experiment_2,\n",
    "    stds_experiment_2,\n",
    "):\n",
    "    \"\"\"This helper function generates subplots for the experiments.\"\"\"\n",
    "    fig, axes = plt.subplots(nrows=1, ncols=1, figsize=(18, 6))\n",
    "\n",
    "    for i in range(len(avgs_experiment_1)):\n",
    "        if avgs_experiment_2 is not None:\n",
    "            # Plot data for subplot 1\n",
    "            axes[i].plot(avgs_experiment_2[i], label=\"Experiment 2\", color=\"green\")\n",
    "            axes[i].fill_between(\n",
    "                np.arange(len(avgs_experiment_2[i])),\n",
    "                avgs_experiment_2[i] - stds_experiment_2[i],\n",
    "                avgs_experiment_2[i] + stds_experiment_2[i],\n",
    "                alpha=0.2,\n",
    "                color=\"green\",\n",
    "            )\n",
    "            axes[i].set_ylim(bottom=0)\n",
    "\n",
    "        axes.plot(avgs_experiment_1[i], label=\"Experiment 1\", color=\"blue\")\n",
    "        axes.fill_between(\n",
    "            np.arange(len(avgs_experiment_1[i])),\n",
    "            avgs_experiment_1[i] - stds_experiment_1[i],\n",
    "            avgs_experiment_1[i] + stds_experiment_1[i],\n",
    "            alpha=0.2,\n",
    "            color=\"blue\",\n",
    "        )\n",
    "        axes.set_title(labels[i])\n",
    "        axes.set_ylim(bottom=0)\n",
    "\n",
    "\n",
    "    # Set common labels and title\n",
    "#     for ax in axes:\n",
    "    axes.set_xlabel(\"Generations\")\n",
    "    axes.set_ylabel(\"Average Best Fitness\")\n",
    "    axes.legend()\n",
    "\n",
    "    plt.tight_layout()"
   ]
  },
  {
   "cell_type": "code",
   "execution_count": 54,
   "id": "CNyKXF5p2deP",
   "metadata": {
    "id": "CNyKXF5p2deP"
   },
   "outputs": [],
   "source": [
    "def run_experiment(population_size, p_crossover, m_rate):\n",
    "    runs = 10  # number of runs\n",
    "    max_fit_evals = 1000  # max fitness evaluations\n",
    "\n",
    "    exp = []\n",
    "\n",
    "    for _ in range(runs):\n",
    "        _, f_best_exp = ea(\n",
    "            population_size[0],\n",
    "            max_fit_evals,\n",
    "            p_crossover[0],\n",
    "            m_rate[0],\n",
    "            cartpole,\n",
    "        )\n",
    "        exp.append(f_best_exp)\n",
    "\n",
    "    # find average and std of the runs\n",
    "    exp_avg, exp_std = calculate_mean_std(exp)\n",
    "    \n",
    "    avgs = [exp_avg]\n",
    "\n",
    "    stds = [exp_std]\n",
    "\n",
    "    all_runs = [\n",
    "        exp,\n",
    "    ]\n",
    "\n",
    "    return avgs, stds, all_runs"
   ]
  },
  {
   "cell_type": "code",
   "execution_count": 49,
   "id": "heohRtrL33JK",
   "metadata": {
    "id": "heohRtrL33JK"
   },
   "outputs": [],
   "source": [
    "population_size = [10]  # DO NOT CHANGE\n",
    "p_crossover = [0.8]  # DO NOT CHANGE\n",
    "m_rate = [0.9]  # DO NOT CHANGE\n",
    "\n",
    "avgs_experiment_1, stds_experiment_1, all_runs_experiment_1 = run_experiment(\n",
    "    population_size, p_crossover, m_rate\n",
    ")"
   ]
  },
  {
   "cell_type": "code",
   "execution_count": 56,
   "id": "MUrfnPZiedXo",
   "metadata": {
    "colab": {
     "base_uri": "https://localhost:8080/",
     "height": 816
    },
    "id": "MUrfnPZiedXo",
    "outputId": "545bc324-8cbd-452c-fc71-c59033ddc0c0"
   },
   "outputs": [
    {
     "data": {
      "image/png": "[encoded data removed]",
      "text/plain": [
       "<Figure size 1800x600 with 1 Axes>"
      ]
     },
     "metadata": {},
     "output_type": "display_data"
    }
   ],
   "source": [
    "labels = [\"pop 10 pc 0.8 mr 0.9\"]\n",
    "\n",
    "generate_subplot_function(\n",
    "    avgs_experiment_1,\n",
    "    stds_experiment_1,\n",
    "    labels,\n",
    "    avgs_experiment_2=None,\n",
    "    stds_experiment_2=None,\n",
    ")"
   ]
  },
  {
   "cell_type": "markdown",
   "id": "b3890d84",
   "metadata": {
    "id": "b3890d84"
   },
   "source": [
    "---\n",
    "**Question 4 (0-0.25-0.5 pt):** Please comment on the average behavior of your algorithm. How did the average results and standard deviations look? Did your algorithm converge all the time to the best fitness?\n",
    "\n",
    "**Answer:** The average results had a steep increase in the initial 20 generations, and smoothed after that, converging to the best fitness (1000) after approximately the 45th generation. The standard deviation was large in the beggining, but kept getting smaller and in the end converged to a constant value, like the average. My algorithm did not converge all the time to the best fitness, as it is shown in the plotted standard deviation after the 45th generation."
   ]
  }
 ],
 "metadata": {
  "colab": {
   "provenance": []
  },
  "jupytext": {
   "formats": "ipynb,md,py:light"
  },
  "kernelspec": {
   "display_name": "Python 3 (ipykernel)",
   "language": "python",
   "name": "python3"
  },
  "language_info": {
   "codemirror_mode": {
    "name": "ipython",
    "version": 3
   },
   "file_extension": ".py",
   "mimetype": "text/x-python",
   "name": "python",
   "nbconvert_exporter": "python",
   "pygments_lexer": "ipython3",
   "version": "3.11.7"
  },
  "toc": {
   "base_numbering": 1
  }
 },
 "nbformat": 4,
 "nbformat_minor": 5
}
