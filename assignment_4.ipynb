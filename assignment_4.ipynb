{
 "cells": [
  {
   "cell_type": "markdown",
   "metadata": {
    "id": "QRBDdr0SEqpT"
   },
   "source": [
    "# Assignment 4"
   ]
  },
  {
   "cell_type": "markdown",
   "metadata": {
    "id": "8xd57TRzExEr"
   },
   "source": [
    "**Assignment 4: Neural Networks**\n",
    "\n",
    "**Goal**: ​Get familiar with neural networks by implementing them and applying them to image classification."
   ]
  },
  {
   "cell_type": "markdown",
   "metadata": {
    "id": "yHNgWB1iFDu5"
   },
   "source": [
    "In this assignment we are going to learn about neural networks (NNs). The goal is to implement two neural networks: a fully-connected neural network, a convolutional neural network, and analyze their behavior.\n",
    "\n",
    "The considered task is image classification. We consider a dataset of small natural images (see the additional file) with multiple classes. We aim at formulating a model (a neural network) and learning it using the negative log-likelihood function (i.e., the cross-entropy loss) as the objective function, and the stochastic gradient descent as the optimizer.\n",
    "\n",
    "In this assignment, ​**the code must be implemented in PyTorch**."
   ]
  },
  {
   "cell_type": "markdown",
   "metadata": {
    "id": "Jxgc7c--P0GH"
   },
   "source": [
    "## 1 Understanding the problem\n",
    "\n"
   ]
  },
  {
   "cell_type": "markdown",
   "metadata": {
    "id": "oRteDLEPP3eX"
   },
   "source": [
    "The considered problem is about classifying images to $L$ classes. In the first part of the assignment, you are asked get familiar with PyTorch, a deep learning library, and the basics of neural networks, and implement neural-network-based classifiers. For this purpose, we will start with classifying small images (8px x 8px) of handwritten digits to one of 10 classes. The dataset is very small and all experiments could be achieved within a couple of minutes.\n",
    "\n",
    "In the second part, you are asked to implement the whole pipeline for a given dataset by yourself.\n",
    "\n",
    "Please run the code below and spend a while on analyzing the images.\n",
    "\n",
    "If any code line is unclear to you, please read on that in numpy, scipy, matplotlib and PyTorch docs."
   ]
  },
  {
   "cell_type": "code",
   "execution_count": 1,
   "metadata": {
    "id": "g4wCnPRz-MaE"
   },
   "outputs": [],
   "source": [
    "import os\n",
    "\n",
    "import matplotlib.pyplot as plt\n",
    "import numpy as np\n",
    "import torch\n",
    "import torch.nn as nn\n",
    "import torch.nn.functional as F\n",
    "from sklearn import datasets\n",
    "from sklearn.datasets import load_digits\n",
    "from torch.utils.data import DataLoader, Dataset\n",
    "\n",
    "EPS = 1.0e-7"
   ]
  },
  {
   "cell_type": "code",
   "execution_count": 2,
   "metadata": {
    "id": "mRmwbuamRuge"
   },
   "outputs": [],
   "source": [
    "# IF YOU USE COLAB, THIS IS VERY USEFUL! OTHERWISE, PLEASE REMOVE IT.\n",
    "# mount drive: WE NEED IT FOR SAVING IMAGES!\n",
    "# from google.colab import drive\n",
    "\n",
    "# drive.mount(\"/content/gdrive\")"
   ]
  },
  {
   "cell_type": "code",
   "execution_count": 3,
   "metadata": {
    "id": "KEiEJE5sRvjc"
   },
   "outputs": [],
   "source": [
    "# IF YOU USE COLAB, THIS IS VERY USEFUL! OTHERWISE, PLEASE REMOVE IT.\n",
    "# PLEASE CHANGE IT TO YOUR OWN GOOGLE DRIVE!\n",
    "results_dir = \"./\""
   ]
  },
  {
   "cell_type": "code",
   "execution_count": 4,
   "metadata": {
    "id": "Xm4e0Utl-30c"
   },
   "outputs": [],
   "source": [
    "# PLEASE DO NOT REMOVE!\n",
    "# This is a class for the dataset of small (8px x 8px) digits.\n",
    "# Please try to understand in details how it works!\n",
    "class Digits(Dataset):\n",
    "    \"\"\"Scikit-Learn Digits dataset.\"\"\"\n",
    "\n",
    "    def __init__(self, mode=\"train\", transforms=None):\n",
    "        digits = load_digits()\n",
    "        if mode == \"train\":\n",
    "            self.data = digits.data[:1000].astype(np.float32)\n",
    "            self.targets = digits.target[:1000]\n",
    "        elif mode == \"val\":\n",
    "            self.data = digits.data[1000:1350].astype(np.float32)\n",
    "            self.targets = digits.target[1000:1350]\n",
    "        else:\n",
    "            self.data = digits.data[1350:].astype(np.float32)\n",
    "            self.targets = digits.target[1350:]\n",
    "\n",
    "        self.transforms = transforms\n",
    "\n",
    "    def __len__(self):\n",
    "        return len(self.data)\n",
    "\n",
    "    def __getitem__(self, idx):\n",
    "        sample_x = self.data[idx]\n",
    "        sample_y = self.targets[idx]\n",
    "        if self.transforms:\n",
    "            sample_x = self.transforms(sample_x)\n",
    "        return (sample_x, sample_y)"
   ]
  },
  {
   "cell_type": "code",
   "execution_count": 5,
   "metadata": {
    "id": "bnDz_yGeuOnh"
   },
   "outputs": [
    {
     "data": {
      "image/png": "[encoded data removed]",
      "text/plain": [
       "<Figure size 400x400 with 16 Axes>"
      ]
     },
     "metadata": {},
     "output_type": "display_data"
    }
   ],
   "source": [
    "# PLEASE DO NOT REMOVE\n",
    "# Here, we plot some images (8px x 8px).\n",
    "digits = load_digits()\n",
    "x = digits.data[:16].astype(np.float32)\n",
    "\n",
    "fig_data, axs = plt.subplots(4, 4, figsize=(4, 4))\n",
    "fig_data.tight_layout()\n",
    "\n",
    "for i in range(4):\n",
    "    for j in range(4):\n",
    "        img = np.reshape(x[4 * i + j], (8, 8))\n",
    "        axs[i, j].imshow(img, cmap=\"gray\")\n",
    "        axs[i, j].axis(\"off\")"
   ]
  },
  {
   "cell_type": "markdown",
   "metadata": {
    "id": "wgc_GFOyRBEi"
   },
   "source": [
    "## 2 Neural Networks for Digits (4pt)"
   ]
  },
  {
   "cell_type": "markdown",
   "metadata": {
    "id": "gDVf1vyORGUB"
   },
   "source": [
    "In this assignment, you are asked to implement a neural network (NN) classifier. Please take a look at the class below and fill in the missing parts.\n",
    "\n",
    "NOTE: Please pay attention to the inputs and outputs of each function."
   ]
  },
  {
   "cell_type": "markdown",
   "metadata": {
    "id": "iwuEfxSKpFtD"
   },
   "source": [
    "### 2.1 Neural Network Classifier"
   ]
  },
  {
   "cell_type": "markdown",
   "metadata": {
    "id": "9FThxxdkpKcQ"
   },
   "source": [
    "Below, we have two helper modules (layers) that can be used to reshape and flatten a tensor. They are useful for creating sequentials with convolutional layers."
   ]
  },
  {
   "cell_type": "code",
   "execution_count": 6,
   "metadata": {
    "id": "5AB5Ch63Ak01"
   },
   "outputs": [],
   "source": [
    "# PLEASE DO NOT REMOVE!\n",
    "# Here are two auxiliary functions that can be used for a convolutional NN (CNN).\n",
    "\n",
    "\n",
    "# This module reshapes an input (matrix -> tensor).\n",
    "class Reshape(nn.Module):\n",
    "    def __init__(self, size):\n",
    "        super(Reshape, self).__init__()\n",
    "        self.size = size  # a list\n",
    "\n",
    "    def forward(self, x):\n",
    "        assert x.shape[1] == np.prod(self.size)\n",
    "        return x.view(x.shape[0], *self.size)\n",
    "\n",
    "\n",
    "# This module flattens an input (tensor -> matrix) by blending dimensions\n",
    "# beyond the batch size.\n",
    "class Flatten(nn.Module):\n",
    "    def __init__(self):\n",
    "        super(Flatten, self).__init__()\n",
    "\n",
    "    def forward(self, x):\n",
    "        return x.view(x.shape[0], -1)"
   ]
  },
  {
   "cell_type": "markdown",
   "metadata": {
    "id": "x3i9R3NmpUY3"
   },
   "source": [
    "Below is the main class for a classifier parameterized by a neural network."
   ]
  },
  {
   "cell_type": "code",
   "execution_count": 7,
   "metadata": {
    "id": "Vtv_pAkmOrS3"
   },
   "outputs": [],
   "source": [
    "# =========\n",
    "# GRADING:\n",
    "# 0\n",
    "# 0.5 pt if code works but it is explained badly\n",
    "# 1.0 pt if code works and it is explained well\n",
    "# =========\n",
    "# Implement a neural network (NN) classifier.\n",
    "class ClassifierNeuralNet(nn.Module):\n",
    "    def __init__(self, classnet):\n",
    "        super(ClassifierNeuralNet, self).__init__()\n",
    "        # We provide a sequential module with layers and activations\n",
    "        self.classnet = classnet\n",
    "        # The loss function (the negative log-likelihood)\n",
    "        self.nll = nn.NLLLoss(reduction=\"none\")  # it requires log-softmax as input!!\n",
    "\n",
    "    # This function classifies an image x to a class.\n",
    "    # The output must be a class label (long).\n",
    "    def classify(self, x):\n",
    "        # ------\n",
    "        # PLEASE FILL IN\n",
    "        #performs forward-pass, get raw scores for the classifications\n",
    "        output = self.classnet(x)\n",
    "        #apply softmax function to convert scores into probabilities\n",
    "        probabilities = F.softmax(output,dim=1)\n",
    "        #apply max funcion to dimension 1, to get the element with highest probability\n",
    "        _,y_pred = torch.max(probabilities,1)\n",
    "\n",
    "        return y_pred\n",
    "\n",
    "    # This function is crucial for a module in PyTorch.\n",
    "    # In our framework, this class outputs a value of the loss function.\n",
    "    def forward(self, x, y, reduction=\"avg\"):\n",
    "        # ------\n",
    "        # PLEASE FILL IN\n",
    "        output = self.classnet(x)\n",
    "        loss = self.nll(F.log_softmax(output,dim=1),y)\n",
    "        # ------\n",
    "        if reduction == \"sum\":\n",
    "            return loss.sum()\n",
    "        else:\n",
    "            return loss.mean()"
   ]
  },
  {
   "cell_type": "markdown",
   "metadata": {
    "id": "bwaou1x-gmx3"
   },
   "source": [
    "**Question 1 (0-0.5pt):** What is the objective function for a classification task? In other words, what is nn.NLLLoss in the code above? Pelase write it in mathematical terms.\n",
    "\n",
    "**Answer:**\n",
    "The objective function used for classification tasks is the negative log-likelihood (NLL) loss, represented in the code above by nn.NLLLoss. This loss function measures the difference between the predicted probability distribution among classes and the true distribution."
   ]
  },
  {
   "cell_type": "markdown",
   "metadata": {
    "id": "kvX88kN-irAD"
   },
   "source": [
    "**Question 2 (0-0.5pt):** In the code above, it is said to use the logarithm of the softmax as the final activation function. Is it correct to use the log-softmax instead of the softmax for making predictions (i.e., picking the most probable label).\n",
    "\n",
    "**Answer:** \n",
    "It's not correct to use the log-softmax for making predictions because it outputs probabilities in a logarithmic scale instead of the standard-unit interval. Because the softmax function applies exponential function to inputs in order to normalize them, numbers can easily get too big, and this is computationally expensive. The log-softmax function is used when dealing with such cases, as it reduces the scale to logarithmic."
   ]
  },
  {
   "cell_type": "markdown",
   "metadata": {
    "id": "HVqRQduw3mgm"
   },
   "source": [
    "### 2.2 Evaluation"
   ]
  },
  {
   "cell_type": "code",
   "execution_count": 8,
   "metadata": {
    "id": "4g9uUFgYP1kT"
   },
   "outputs": [],
   "source": [
    "# PLEASE DO NOT REMOVE\n",
    "def evaluation(test_loader, name=None, model_best=None, epoch=None):\n",
    "    # If available, load the best performing model\n",
    "    if model_best is None:\n",
    "        model_best = torch.load(name + \".model\")\n",
    "\n",
    "    model_best.eval()  # set the model to the evaluation mode\n",
    "    loss_test = 0.0\n",
    "    loss_error = 0.0\n",
    "    N = 0.0\n",
    "    # start evaluation\n",
    "    for indx_batch, (test_batch, test_targets) in enumerate(test_loader):\n",
    "        # loss (nll)\n",
    "        loss_test_batch = model_best.forward(test_batch, test_targets, reduction=\"sum\")\n",
    "        loss_test = loss_test + loss_test_batch.item()\n",
    "        # classification error\n",
    "        y_pred = model_best.classify(test_batch)\n",
    "        e = 1.0 * (y_pred == test_targets)\n",
    "        loss_error = loss_error + (1.0 - e).sum().item()\n",
    "        # the number of examples\n",
    "        N = N + test_batch.shape[0]\n",
    "    # divide by the number of examples\n",
    "    loss_test = loss_test / N\n",
    "    loss_error = loss_error / N\n",
    "\n",
    "    # Print the performance\n",
    "    if epoch is None:\n",
    "        print(f\"-> FINAL PERFORMANCE: nll={loss_test}, ce={loss_error}\")\n",
    "    else:\n",
    "        if epoch % 10 == 0:\n",
    "            print(f\"Epoch: {epoch}, val nll={loss_test}, val ce={loss_error}\")\n",
    "\n",
    "    return loss_test, loss_error\n",
    "\n",
    "\n",
    "# An auxiliary function for plotting the performance curves\n",
    "def plot_curve(\n",
    "    name,\n",
    "    signal,\n",
    "    file_name=\"curve.pdf\",\n",
    "    xlabel=\"epochs\",\n",
    "    ylabel=\"nll\",\n",
    "    color=\"b-\",\n",
    "    test_eval=None,\n",
    "):\n",
    "    # plot the curve\n",
    "    plt.plot(\n",
    "        np.arange(len(signal)), signal, color, linewidth=\"3\", label=ylabel + \" val\"\n",
    "    )\n",
    "    # if available, add the final (test) performance\n",
    "    if test_eval is not None:\n",
    "        plt.hlines(\n",
    "            test_eval,\n",
    "            xmin=0,\n",
    "            xmax=len(signal),\n",
    "            linestyles=\"dashed\",\n",
    "            label=ylabel + \" test\",\n",
    "        )\n",
    "        plt.text(\n",
    "            len(signal),\n",
    "            test_eval,\n",
    "            \"{:.3f}\".format(test_eval),\n",
    "        )\n",
    "    # set x- and ylabels, add legend, save the figure\n",
    "    plt.xlabel(xlabel), plt.ylabel(ylabel)\n",
    "    plt.legend()\n",
    "    plt.savefig(name + file_name, bbox_inches=\"tight\")\n",
    "    plt.show()"
   ]
  },
  {
   "cell_type": "markdown",
   "metadata": {
    "id": "YzRd-TiY3puF"
   },
   "source": [
    "### 2.3 Training procedure"
   ]
  },
  {
   "cell_type": "code",
   "execution_count": 9,
   "metadata": {
    "id": "CMhQWbM1QcBM"
   },
   "outputs": [],
   "source": [
    "# PLEASE DO NOT REMOVE!\n",
    "# The training procedure\n",
    "def training(\n",
    "    name, max_patience, num_epochs, model, optimizer, training_loader, val_loader\n",
    "):\n",
    "    nll_val = []\n",
    "    error_val = []\n",
    "    best_nll = 1000.0\n",
    "    patience = 0\n",
    "\n",
    "    # Main training loop\n",
    "    for e in range(num_epochs):\n",
    "        model.train()  # set the model to the training mode\n",
    "        # load batches\n",
    "        for indx_batch, (batch, targets) in enumerate(training_loader):\n",
    "            # calculate the forward pass (loss function for given images and labels)\n",
    "            loss = model.forward(batch, targets)\n",
    "            # remember we need to zero gradients! Just in case!\n",
    "            optimizer.zero_grad()\n",
    "            # calculate backward pass\n",
    "            loss.backward(retain_graph=True)\n",
    "            # run the optimizer\n",
    "            optimizer.step()\n",
    "\n",
    "        # Validation: Evaluate the model on the validation data\n",
    "        loss_e, error_e = evaluation(val_loader, model_best=model, epoch=e)\n",
    "        nll_val.append(loss_e)  # save for plotting\n",
    "        error_val.append(error_e)  # save for plotting\n",
    "\n",
    "        # Early-stopping: update the best performing model and break training if no\n",
    "        # progress is observed.\n",
    "        if e == 0:\n",
    "            torch.save(model, name + \".model\")\n",
    "            best_nll = loss_e\n",
    "        else:\n",
    "            if loss_e < best_nll:\n",
    "                torch.save(model, name + \".model\")\n",
    "                best_nll = loss_e\n",
    "                patience = 0\n",
    "            else:\n",
    "                patience = patience + 1\n",
    "\n",
    "        if patience > max_patience:\n",
    "            break\n",
    "\n",
    "    # Return nll and classification error.\n",
    "    nll_val = np.asarray(nll_val)\n",
    "    error_val = np.asarray(error_val)\n",
    "\n",
    "    return nll_val, error_val"
   ]
  },
  {
   "cell_type": "markdown",
   "metadata": {
    "id": "gHYGz3G87nuk"
   },
   "source": [
    "### 2.4 Experiments"
   ]
  },
  {
   "cell_type": "markdown",
   "metadata": {
    "id": "op-YbN-JREqw"
   },
   "source": [
    "#### Initialize dataloaders"
   ]
  },
  {
   "cell_type": "code",
   "execution_count": 10,
   "metadata": {
    "id": "R_cRaP3gRET1"
   },
   "outputs": [],
   "source": [
    "# PLEASE DO NOT REMOVE\n",
    "# Initialize training, validation and test sets.\n",
    "train_data = Digits(mode=\"train\")\n",
    "val_data = Digits(mode=\"val\")\n",
    "test_data = Digits(mode=\"test\")\n",
    "\n",
    "# Initialize data loaders.\n",
    "training_loader = DataLoader(train_data, batch_size=64, shuffle=True)\n",
    "val_loader = DataLoader(val_data, batch_size=64, shuffle=False)\n",
    "test_loader = DataLoader(test_data, batch_size=64, shuffle=False)"
   ]
  },
  {
   "cell_type": "code",
   "execution_count": 11,
   "metadata": {
    "id": "2Lqwm5c3oRia"
   },
   "outputs": [
    {
     "name": "stdout",
     "output_type": "stream",
     "text": [
      "How do we get our data from Digits class? \n",
      "\n",
      "Feature example: [ 0.  0.  0. 12. 13.  5.  0.  0.  0.  0.  0. 11. 16.  9.  0.  0.  0.  0.\n",
      "  3. 15. 16.  6.  0.  0.  0.  7. 15. 16. 16.  2.  0.  0.  0.  0.  1. 16.\n",
      " 16.  3.  0.  0.  0.  0.  1. 16. 16.  6.  0.  0.  0.  0.  1. 16. 16.  6.\n",
      "  0.  0.  0.  0.  0. 11. 16. 10.  0.  0.]\n",
      "Feature example shape: (64,)\n",
      "Label example: 1\n"
     ]
    }
   ],
   "source": [
    "print(\"How do we get our data from Digits class? \\n\")\n",
    "print(f\"Feature example: {train_data[1][0]}\")\n",
    "print(f\"Feature example shape: {train_data[1][0].shape}\")\n",
    "print(f\"Label example: {train_data[1][1]}\")"
   ]
  },
  {
   "cell_type": "code",
   "execution_count": 12,
   "metadata": {
    "id": "F5OuaSTOhocZ"
   },
   "outputs": [
    {
     "name": "stdout",
     "output_type": "stream",
     "text": [
      "How do we get our data from Pytorch DataLoader class? \n",
      "\n",
      "Feature batch shape: torch.Size([64, 64])\n",
      "Labels batch shape: torch.Size([64])\n",
      "\n",
      "\n",
      "What happens if we reshape a feature batch? \n",
      "\n",
      "Feature batch shape after reshape: torch.Size([64, 1, 8, 8])\n",
      "\n",
      "\n",
      "What happens if we flatten a reshaped feature batch? \n",
      "\n",
      "Feature batch shape after flatten: torch.Size([64, 64])\n"
     ]
    }
   ],
   "source": [
    "print(\"How do we get our data from Pytorch DataLoader class? \\n\")\n",
    "train_features, train_labels = next(iter(training_loader))\n",
    "print(f\"Feature batch shape: {train_features.size()}\")\n",
    "print(f\"Labels batch shape: {train_labels.size()}\")\n",
    "\n",
    "print(\"\\n\\nWhat happens if we reshape a feature batch? \\n\")\n",
    "reshape = Reshape(size=(1, 8, 8))\n",
    "train_features_reshaped = reshape(train_features)\n",
    "print(f\"Feature batch shape after reshape: {train_features_reshaped.size()}\")\n",
    "\n",
    "print(\"\\n\\nWhat happens if we flatten a reshaped feature batch? \\n\")\n",
    "flatten = Flatten()\n",
    "train_features_flattened = flatten(train_features_reshaped)\n",
    "print(f\"Feature batch shape after flatten: {train_features_flattened.size()}\")"
   ]
  },
  {
   "cell_type": "markdown",
   "metadata": {
    "id": "s3ni_8Pv3iuG"
   },
   "source": [
    "#### Initialize hyperparameters"
   ]
  },
  {
   "cell_type": "code",
   "execution_count": 13,
   "metadata": {
    "id": "dnMs4gcLRLEK"
   },
   "outputs": [],
   "source": [
    "# PLEASE DO NOT REMOVE\n",
    "# Hyperparameters\n",
    "# -> data hyperparams\n",
    "D = 64  # input dimension\n",
    "\n",
    "# -> model hyperparams\n",
    "M = 256  # the number of neurons in scale (s) and translation (t) nets\n",
    "K = 10  # the number of labels\n",
    "num_kernels = 32  # the number of kernels for CNN\n",
    "\n",
    "# -> training hyperparams\n",
    "lr = 1e-3  # learning rate\n",
    "wd = 1e-5  # weight decay\n",
    "num_epochs = 1000  # max. number of epochs\n",
    "max_patience = 20  # an early stopping is used, if training doesn't improve for longer than 20 epochs, it is stopped"
   ]
  },
  {
   "cell_type": "markdown",
   "metadata": {
    "id": "9VDyHP173vLF"
   },
   "source": [
    "#### Running experiments"
   ]
  },
  {
   "cell_type": "markdown",
   "metadata": {
    "id": "f9T9nXcE3xF2"
   },
   "source": [
    "In the code below, you are supposed to implement architectures for MLP and CNN. For properly implementing these architectures, you can get 0.5pt for each of them."
   ]
  },
  {
   "cell_type": "code",
   "execution_count": 14,
   "metadata": {
    "id": "AZH7ahwBRP9B"
   },
   "outputs": [
    {
     "name": "stdout",
     "output_type": "stream",
     "text": [
      "\n",
      "-> START classifier_mlp\n",
      "Epoch: 0, val nll=2.217847181047712, val ce=0.8628571428571429\n",
      "Epoch: 10, val nll=0.503948631286621, val ce=0.13142857142857142\n",
      "Epoch: 20, val nll=0.29017332894461495, val ce=0.09142857142857143\n",
      "Epoch: 30, val nll=0.2210449286869594, val ce=0.06571428571428571\n",
      "Epoch: 40, val nll=0.1825172451564244, val ce=0.04857142857142857\n",
      "Epoch: 50, val nll=0.16246077946254187, val ce=0.04\n",
      "Epoch: 60, val nll=0.1488551357814244, val ce=0.04\n",
      "Epoch: 70, val nll=0.13775028228759767, val ce=0.037142857142857144\n",
      "Epoch: 80, val nll=0.12764826093401227, val ce=0.037142857142857144\n",
      "Epoch: 90, val nll=0.12530731064932688, val ce=0.03142857142857143\n",
      "Epoch: 100, val nll=0.12197748933519637, val ce=0.03428571428571429\n",
      "Epoch: 110, val nll=0.11986774035862514, val ce=0.03428571428571429\n",
      "Epoch: 120, val nll=0.1188429502078465, val ce=0.02857142857142857\n",
      "Epoch: 130, val nll=0.11714567286627633, val ce=0.02857142857142857\n",
      "Epoch: 140, val nll=0.1169022239957537, val ce=0.03142857142857143\n",
      "Epoch: 150, val nll=0.1174559485912323, val ce=0.02857142857142857\n",
      "Epoch: 160, val nll=0.11641151462282454, val ce=0.02857142857142857\n",
      "-> FINAL PERFORMANCE: nll=0.36671615340298985, ce=0.09843400447427293\n"
     ]
    },
    {
     "data": {
      "image/png": "[encoded data removed]",
      "text/plain": [
       "<Figure size 640x480 with 1 Axes>"
      ]
     },
     "metadata": {},
     "output_type": "display_data"
    },
    {
     "data": {
      "image/png": "[encoded data removed]",
      "text/plain": [
       "<Figure size 640x480 with 1 Axes>"
      ]
     },
     "metadata": {},
     "output_type": "display_data"
    },
    {
     "name": "stdout",
     "output_type": "stream",
     "text": [
      "\n",
      "-> START classifier_cnn\n",
      "Epoch: 0, val nll=1.3685475594656809, val ce=0.4714285714285714\n",
      "Epoch: 10, val nll=0.2510312870570591, val ce=0.054285714285714284\n",
      "Epoch: 20, val nll=0.1783368056161063, val ce=0.04\n",
      "Epoch: 30, val nll=0.1521537835257394, val ce=0.04\n",
      "Epoch: 40, val nll=0.13906930719103133, val ce=0.03428571428571429\n",
      "Epoch: 50, val nll=0.13258985451289584, val ce=0.03142857142857143\n",
      "Epoch: 60, val nll=0.12521725211824689, val ce=0.03142857142857143\n",
      "Epoch: 70, val nll=0.12136796065739223, val ce=0.03142857142857143\n",
      "Epoch: 80, val nll=0.12286817959376743, val ce=0.03142857142857143\n",
      "Epoch: 90, val nll=0.12269099201474871, val ce=0.03142857142857143\n",
      "-> FINAL PERFORMANCE: nll=0.35817941883266374, ce=0.087248322147651\n"
     ]
    },
    {
     "data": {
      "image/png": "[encoded data removed]",
      "text/plain": [
       "<Figure size 640x480 with 1 Axes>"
      ]
     },
     "metadata": {},
     "output_type": "display_data"
    },
    {
     "data": {
      "image/png": "[encoded data removed]",
      "text/plain": [
       "<Figure size 640x480 with 1 Axes>"
      ]
     },
     "metadata": {},
     "output_type": "display_data"
    }
   ],
   "source": [
    "# PLEASE DO NOT REMOVE and FILL IN WHEN NECESSARY!\n",
    "# We will run two models: MLP and CNN\n",
    "names = [\"classifier_mlp\", \"classifier_cnn\"]\n",
    "\n",
    "# loop over models\n",
    "for name in names:\n",
    "    print(\"\\n-> START {}\".format(name))\n",
    "    # Create a folder (REMEMBER: You must mount your drive if you use Colab!)\n",
    "    if name == \"classifier_mlp\":\n",
    "        name = name + \"_M_\" + str(M)\n",
    "    elif name == \"classifier_cnn\":\n",
    "        name = name + \"_M_\" + str(M) + \"_kernels_\" + str(num_kernels)\n",
    "\n",
    "    # Create a folder if necessary\n",
    "    result_dir = os.path.join(results_dir, \"results\", name + \"/\")\n",
    "\n",
    "    # =========\n",
    "    # MAKE SURE THAT \"result_dir\" IS A PATH TO A LOCAL FOLDER OR A GOOGLE COLAB FOLDER (DEFINED IN CELL 3)\n",
    "    result_dir = \"./\"  # (current folder)\n",
    "    # =========\n",
    "    if not (os.path.exists(result_dir)):\n",
    "        os.mkdir(result_dir)\n",
    "\n",
    "    # MLP\n",
    "    if name[0:14] == \"classifier_mlp\":\n",
    "        # =========\n",
    "        # GRADING:\n",
    "        # 0\n",
    "        # 0.5pt if properly implemented\n",
    "        # =========\n",
    "        # ------\n",
    "        # PLEASE FILL IN:\n",
    "        classnet = nn.Sequential(\n",
    "                nn.Linear(8*8, 32),\n",
    "                nn.ReLU(),                           \n",
    "                nn.Linear(32, 10),\n",
    "                nn.LogSoftmax(dim=1)\n",
    "        )\n",
    "        #\n",
    "        # You are asked here to propose your own architecture\n",
    "        # NOTE: Please remember that the output must be LogSoftmax!\n",
    "        # ------\n",
    "        pass\n",
    "\n",
    "    # CNN\n",
    "    elif name[0:14] == \"classifier_cnn\":\n",
    "        # =========\n",
    "        # GRADING:\n",
    "        # 0\n",
    "        # 0.5pt if properly implemented\n",
    "        # =========\n",
    "        # ------\n",
    "        # PLEASE FILL IN:\n",
    "        classnet = nn.Sequential(\n",
    "            Reshape((1,8,8)),\n",
    "            nn.Conv2d(1, 8, 1,padding=0),\n",
    "            nn.ReLU(),\n",
    "            nn.MaxPool2d(kernel_size=1),\n",
    "            Flatten(),\n",
    "            nn.Linear(512, 10),\n",
    "            nn.LogSoftmax(dim=1)   \n",
    "        )\n",
    "        #\n",
    "        # You are asked here to propose your own architecture\n",
    "        # NOTE: Plese note that the images are represented as vectors, thus, you must\n",
    "        # use Reshape(size) as the first layer, and Flatten() after all convolutional\n",
    "        # layers and before linear layers.\n",
    "        # NOTE: Please remember that the output must be LogSoftmax!\n",
    "        # ------\n",
    "        pass\n",
    "\n",
    "    # Init ClassifierNN\n",
    "    model = ClassifierNeuralNet(classnet)\n",
    "\n",
    "    # Init OPTIMIZER (here we use ADAMAX)\n",
    "    optimizer = torch.optim.Adamax(\n",
    "        [p for p in model.parameters() if p.requires_grad == True],\n",
    "        lr=lr,\n",
    "        weight_decay=wd,\n",
    "    )\n",
    "\n",
    "    # Training procedure\n",
    "    nll_val, error_val = training(\n",
    "        name=result_dir + name,\n",
    "        max_patience=max_patience,\n",
    "        num_epochs=num_epochs,\n",
    "        model=model,\n",
    "        optimizer=optimizer,\n",
    "        training_loader=training_loader,\n",
    "        val_loader=val_loader,\n",
    "    )\n",
    "\n",
    "    # The final evaluation (on the test set)\n",
    "    test_loss, test_error = evaluation(name=result_dir + name, test_loader=test_loader)\n",
    "    # write the results to a file\n",
    "    f = open(result_dir + name + \"_test_loss.txt\", \"w\")\n",
    "    f.write(\"NLL: \" + str(test_loss) + \"\\nCE: \" + str(test_error))\n",
    "    f.close()\n",
    "    # create curves\n",
    "    plot_curve(\n",
    "        result_dir + name,\n",
    "        nll_val,\n",
    "        file_name=\"_nll_val_curve.pdf\",\n",
    "        ylabel=\"nll\",\n",
    "        test_eval=test_loss,\n",
    "    )\n",
    "    plot_curve(\n",
    "        result_dir + name,\n",
    "        error_val,\n",
    "        file_name=\"_ca_val_curve.pdf\",\n",
    "        ylabel=\"ce\",\n",
    "        color=\"r-\",\n",
    "        test_eval=test_error,\n",
    "    )"
   ]
  },
  {
   "cell_type": "markdown",
   "metadata": {
    "id": "oFX-DzH9ftPg"
   },
   "source": [
    "## 2.5 Analysis"
   ]
  },
  {
   "cell_type": "markdown",
   "metadata": {
    "id": "2-TFtGdZfz3a"
   },
   "source": [
    "**Question 3 (0-0.5pt)**: Please compare the convergence of MLP and CNN in terms of the loss function and the classification error.\n",
    "\n",
    "**Answer**: \n",
    "For both loss function and classification error, while CNN convergence is a bit faster than MLP, MLP had a better final performance on the test set."
   ]
  },
  {
   "cell_type": "markdown",
   "metadata": {
    "id": "0f2P57ZmlwXz"
   },
   "source": [
    "**Question 4 (0-0.5pt)**: In general, for a properly picked architectures, a CNN should work better than an MLP. Did you notice that? Why (in general) CNNs are better suited to images than MLPs?\n",
    "\n",
    "**Answer**: I did not notice that the CNN model performed better than MLP. My guess is that this is due to the lack of data contained in the images (they are too small): as CNN makes use of data abstraction (convolution) to learn more efficient and significant feature representations, abstracting these images too much could have led to data representations which took away important features of the images, although in general the CNN model is better and more efficient in image classification, given its stack of convolutional layers, which performs much better when there is a need to represent spatial relationship between pixels, unlike MLP, which treats each pixel as a feature individually, and therefore this spatial notion is poorly done, although in this case it performed better as the images were too small."
   ]
  },
  {
   "cell_type": "markdown",
   "metadata": {
    "id": "1QJ_mRdT7Ais"
   },
   "source": [
    "## 3 Application to Street House View Numbers (SVHN) (6pt)"
   ]
  },
  {
   "cell_type": "markdown",
   "metadata": {
    "id": "YHhUUaYL7GEx"
   },
   "source": [
    "Please repeat (some) of the code in the previous section and apply a bigger convolutional neural network (CNN) to the following dataset:\n",
    "\n",
    "http://ufldl.stanford.edu/housenumbers/\n",
    "\n",
    "Please follow the following steps:\n",
    "1. (1pt) Create appropriate Dataset class. Please remember to use the original training data and test data, and also to create a validation set from the traning data (at least 10% of the training examples). **Do not use extra examples!**\n",
    "2. (1pt) Implement an architecture that will give at most 0.1 classification error. For instance, see this paper as a reference: https://arxiv.org/pdf/1204.3968.pdf#:~:text=The%20SVHN%20classification%20dataset%20%5B8,set%20of%20more%20difficult%20samples\n",
    "3. (1pt) Think of an extra component that could improve the performance (e.g., a regularization, specific activation functions).\n",
    "4. (1pt) Provide a good explanation of the applied architecture and a description of all components.\n",
    "5. (2pt) Analyze the results.\n",
    "\n",
    "**Please be very precise, comment your code and provide a comprehensive and clear analysis.**"
   ]
  },
  {
   "cell_type": "code",
   "execution_count": 29,
   "metadata": {},
   "outputs": [],
   "source": [
    "from torchvision.datasets import SVHN"
   ]
  },
  {
   "cell_type": "markdown",
   "metadata": {},
   "source": [
    "### Step 1:"
   ]
  },
  {
   "cell_type": "code",
   "execution_count": 34,
   "metadata": {},
   "outputs": [],
   "source": [
    "class SVHNDataset(Dataset):\n",
    "    \"\"\"SVHN dataset.\"\"\"\n",
    "\n",
    "    def __init__(self, mode, transforms=None):\n",
    "        \n",
    "        if mode == \"train\":\n",
    "            self.dataset = SVHN(root='./svhn', split=\"train\", transform=transforms,download=True)\n",
    "            #15% split for validation\n",
    "            len_val = int(np.ceil(15/100*len(self.dataset.data)))\n",
    "            self.data = self.dataset.data[:len(self.dataset.data)-len_val].astype(np.float32)\n",
    "            self.targets = self.dataset.labels[:len(self.dataset.data)-len_val]\n",
    "        elif mode == \"val\":\n",
    "            self.dataset = SVHN(root='./svhn', split=\"train\", transform=transforms,download=True)\n",
    "            #15% split for validation\n",
    "            len_val = int(np.ceil(15/100*len(self.dataset.data)))\n",
    "            self.data = self.dataset.data[len(self.dataset.data)-len_val:].astype(np.float32)\n",
    "            self.targets = self.dataset.labels[len(self.dataset.data)-len_val:]\n",
    "        elif mode == \"test\":\n",
    "            self.dataset = SVHN(root='./svhn', split=\"test\", transform=transforms,download=True)\n",
    "            self.data = self.dataset.data.astype(np.float32)\n",
    "            self.targets = self.dataset.labels\n",
    "            \n",
    "    def __len__(self):\n",
    "        return len(self.dataset)\n",
    "\n",
    "    def __getitem__(self, idx):\n",
    "        image = self.data[idx]\n",
    "        target = self.targets[idx]\n",
    "        return image, target"
   ]
  },
  {
   "cell_type": "code",
   "execution_count": 35,
   "metadata": {},
   "outputs": [
    {
     "name": "stdout",
     "output_type": "stream",
     "text": [
      "Using downloaded and verified file: ./svhn/train_32x32.mat\n",
      "Using downloaded and verified file: ./svhn/train_32x32.mat\n",
      "Using downloaded and verified file: ./svhn/test_32x32.mat\n"
     ]
    }
   ],
   "source": [
    "# PLEASE DO NOT REMOVE\n",
    "# Initialize training, validation and test sets.\n",
    "train_data = SVHNDataset(mode=\"train\")\n",
    "val_data = SVHNDataset(mode=\"val\")\n",
    "test_data = SVHNDataset(mode=\"test\")\n",
    "\n",
    "# Initialize data loaders.\n",
    "training_loader = DataLoader(train_data, batch_size=64, shuffle=True)\n",
    "val_loader = DataLoader(val_data, batch_size=64, shuffle=False)\n",
    "test_loader = DataLoader(test_data, batch_size=64, shuffle=False)"
   ]
  },
  {
   "cell_type": "markdown",
   "metadata": {},
   "source": [
    "### Step 2:"
   ]
  },
  {
   "cell_type": "code",
   "execution_count": 36,
   "metadata": {},
   "outputs": [],
   "source": [
    "classnetSVHN = nn.Sequential(\n",
    "    Reshape((3,32,32)),\n",
    "    nn.Conv2d(1, 8, 1,padding=0),\n",
    "    nn.ReLU(),\n",
    "    nn.MaxPool2d(kernel_size=1),\n",
    "    Flatten(),\n",
    "    nn.Linear(512, 10),\n",
    "    nn.LogSoftmax(dim=1)  \n",
    ")"
   ]
  },
  {
   "cell_type": "code",
   "execution_count": 37,
   "metadata": {},
   "outputs": [
    {
     "ename": "IndexError",
     "evalue": "index 69765 is out of bounds for axis 0 with size 62268",
     "output_type": "error",
     "traceback": [
      "\u001b[0;31m---------------------------------------------------------------------------\u001b[0m",
      "\u001b[0;31mIndexError\u001b[0m                                Traceback (most recent call last)",
      "Cell \u001b[0;32mIn[37], line 18\u001b[0m\n\u001b[1;32m     12\u001b[0m optimizer \u001b[38;5;241m=\u001b[39m torch\u001b[38;5;241m.\u001b[39moptim\u001b[38;5;241m.\u001b[39mAdamax(\n\u001b[1;32m     13\u001b[0m     [p \u001b[38;5;28;01mfor\u001b[39;00m p \u001b[38;5;129;01min\u001b[39;00m model\u001b[38;5;241m.\u001b[39mparameters() \u001b[38;5;28;01mif\u001b[39;00m p\u001b[38;5;241m.\u001b[39mrequires_grad \u001b[38;5;241m==\u001b[39m \u001b[38;5;28;01mTrue\u001b[39;00m],\n\u001b[1;32m     14\u001b[0m     lr\u001b[38;5;241m=\u001b[39mlr,\n\u001b[1;32m     15\u001b[0m     weight_decay\u001b[38;5;241m=\u001b[39mwd,\n\u001b[1;32m     16\u001b[0m )\n\u001b[1;32m     17\u001b[0m \u001b[38;5;66;03m# Training procedure\u001b[39;00m\n\u001b[0;32m---> 18\u001b[0m nll_val, error_val \u001b[38;5;241m=\u001b[39m training(\n\u001b[1;32m     19\u001b[0m     name\u001b[38;5;241m=\u001b[39mresult_dir \u001b[38;5;241m+\u001b[39m name,\n\u001b[1;32m     20\u001b[0m     max_patience\u001b[38;5;241m=\u001b[39mmax_patience,\n\u001b[1;32m     21\u001b[0m     num_epochs\u001b[38;5;241m=\u001b[39mnum_epochs,\n\u001b[1;32m     22\u001b[0m     model\u001b[38;5;241m=\u001b[39mmodel,\n\u001b[1;32m     23\u001b[0m     optimizer\u001b[38;5;241m=\u001b[39moptimizer,\n\u001b[1;32m     24\u001b[0m     training_loader\u001b[38;5;241m=\u001b[39mtraining_loader,\n\u001b[1;32m     25\u001b[0m     val_loader\u001b[38;5;241m=\u001b[39mval_loader,\n\u001b[1;32m     26\u001b[0m )\n\u001b[1;32m     27\u001b[0m \u001b[38;5;66;03m# The final evaluation (on the test set)\u001b[39;00m\n\u001b[1;32m     28\u001b[0m test_loss, test_error \u001b[38;5;241m=\u001b[39m evaluation(name\u001b[38;5;241m=\u001b[39mresult_dir \u001b[38;5;241m+\u001b[39m name, test_loader\u001b[38;5;241m=\u001b[39mtest_loader)\n",
      "Cell \u001b[0;32mIn[9], line 15\u001b[0m, in \u001b[0;36mtraining\u001b[0;34m(name, max_patience, num_epochs, model, optimizer, training_loader, val_loader)\u001b[0m\n\u001b[1;32m     13\u001b[0m model\u001b[38;5;241m.\u001b[39mtrain()  \u001b[38;5;66;03m# set the model to the training mode\u001b[39;00m\n\u001b[1;32m     14\u001b[0m \u001b[38;5;66;03m# load batches\u001b[39;00m\n\u001b[0;32m---> 15\u001b[0m \u001b[38;5;28;01mfor\u001b[39;00m indx_batch, (batch, targets) \u001b[38;5;129;01min\u001b[39;00m \u001b[38;5;28menumerate\u001b[39m(training_loader):\n\u001b[1;32m     16\u001b[0m     \u001b[38;5;66;03m# calculate the forward pass (loss function for given images and labels)\u001b[39;00m\n\u001b[1;32m     17\u001b[0m     loss \u001b[38;5;241m=\u001b[39m model\u001b[38;5;241m.\u001b[39mforward(batch, targets)\n\u001b[1;32m     18\u001b[0m     \u001b[38;5;66;03m# remember we need to zero gradients! Just in case!\u001b[39;00m\n",
      "File \u001b[0;32m~/anaconda3/lib/python3.11/site-packages/torch/utils/data/dataloader.py:631\u001b[0m, in \u001b[0;36m_BaseDataLoaderIter.__next__\u001b[0;34m(self)\u001b[0m\n\u001b[1;32m    628\u001b[0m \u001b[38;5;28;01mif\u001b[39;00m \u001b[38;5;28mself\u001b[39m\u001b[38;5;241m.\u001b[39m_sampler_iter \u001b[38;5;129;01mis\u001b[39;00m \u001b[38;5;28;01mNone\u001b[39;00m:\n\u001b[1;32m    629\u001b[0m     \u001b[38;5;66;03m# TODO(https://github.com/pytorch/pytorch/issues/76750)\u001b[39;00m\n\u001b[1;32m    630\u001b[0m     \u001b[38;5;28mself\u001b[39m\u001b[38;5;241m.\u001b[39m_reset()  \u001b[38;5;66;03m# type: ignore[call-arg]\u001b[39;00m\n\u001b[0;32m--> 631\u001b[0m data \u001b[38;5;241m=\u001b[39m \u001b[38;5;28mself\u001b[39m\u001b[38;5;241m.\u001b[39m_next_data()\n\u001b[1;32m    632\u001b[0m \u001b[38;5;28mself\u001b[39m\u001b[38;5;241m.\u001b[39m_num_yielded \u001b[38;5;241m+\u001b[39m\u001b[38;5;241m=\u001b[39m \u001b[38;5;241m1\u001b[39m\n\u001b[1;32m    633\u001b[0m \u001b[38;5;28;01mif\u001b[39;00m \u001b[38;5;28mself\u001b[39m\u001b[38;5;241m.\u001b[39m_dataset_kind \u001b[38;5;241m==\u001b[39m _DatasetKind\u001b[38;5;241m.\u001b[39mIterable \u001b[38;5;129;01mand\u001b[39;00m \\\n\u001b[1;32m    634\u001b[0m         \u001b[38;5;28mself\u001b[39m\u001b[38;5;241m.\u001b[39m_IterableDataset_len_called \u001b[38;5;129;01mis\u001b[39;00m \u001b[38;5;129;01mnot\u001b[39;00m \u001b[38;5;28;01mNone\u001b[39;00m \u001b[38;5;129;01mand\u001b[39;00m \\\n\u001b[1;32m    635\u001b[0m         \u001b[38;5;28mself\u001b[39m\u001b[38;5;241m.\u001b[39m_num_yielded \u001b[38;5;241m>\u001b[39m \u001b[38;5;28mself\u001b[39m\u001b[38;5;241m.\u001b[39m_IterableDataset_len_called:\n",
      "File \u001b[0;32m~/anaconda3/lib/python3.11/site-packages/torch/utils/data/dataloader.py:675\u001b[0m, in \u001b[0;36m_SingleProcessDataLoaderIter._next_data\u001b[0;34m(self)\u001b[0m\n\u001b[1;32m    673\u001b[0m \u001b[38;5;28;01mdef\u001b[39;00m \u001b[38;5;21m_next_data\u001b[39m(\u001b[38;5;28mself\u001b[39m):\n\u001b[1;32m    674\u001b[0m     index \u001b[38;5;241m=\u001b[39m \u001b[38;5;28mself\u001b[39m\u001b[38;5;241m.\u001b[39m_next_index()  \u001b[38;5;66;03m# may raise StopIteration\u001b[39;00m\n\u001b[0;32m--> 675\u001b[0m     data \u001b[38;5;241m=\u001b[39m \u001b[38;5;28mself\u001b[39m\u001b[38;5;241m.\u001b[39m_dataset_fetcher\u001b[38;5;241m.\u001b[39mfetch(index)  \u001b[38;5;66;03m# may raise StopIteration\u001b[39;00m\n\u001b[1;32m    676\u001b[0m     \u001b[38;5;28;01mif\u001b[39;00m \u001b[38;5;28mself\u001b[39m\u001b[38;5;241m.\u001b[39m_pin_memory:\n\u001b[1;32m    677\u001b[0m         data \u001b[38;5;241m=\u001b[39m _utils\u001b[38;5;241m.\u001b[39mpin_memory\u001b[38;5;241m.\u001b[39mpin_memory(data, \u001b[38;5;28mself\u001b[39m\u001b[38;5;241m.\u001b[39m_pin_memory_device)\n",
      "File \u001b[0;32m~/anaconda3/lib/python3.11/site-packages/torch/utils/data/_utils/fetch.py:51\u001b[0m, in \u001b[0;36m_MapDatasetFetcher.fetch\u001b[0;34m(self, possibly_batched_index)\u001b[0m\n\u001b[1;32m     49\u001b[0m         data \u001b[38;5;241m=\u001b[39m \u001b[38;5;28mself\u001b[39m\u001b[38;5;241m.\u001b[39mdataset\u001b[38;5;241m.\u001b[39m__getitems__(possibly_batched_index)\n\u001b[1;32m     50\u001b[0m     \u001b[38;5;28;01melse\u001b[39;00m:\n\u001b[0;32m---> 51\u001b[0m         data \u001b[38;5;241m=\u001b[39m [\u001b[38;5;28mself\u001b[39m\u001b[38;5;241m.\u001b[39mdataset[idx] \u001b[38;5;28;01mfor\u001b[39;00m idx \u001b[38;5;129;01min\u001b[39;00m possibly_batched_index]\n\u001b[1;32m     52\u001b[0m \u001b[38;5;28;01melse\u001b[39;00m:\n\u001b[1;32m     53\u001b[0m     data \u001b[38;5;241m=\u001b[39m \u001b[38;5;28mself\u001b[39m\u001b[38;5;241m.\u001b[39mdataset[possibly_batched_index]\n",
      "File \u001b[0;32m~/anaconda3/lib/python3.11/site-packages/torch/utils/data/_utils/fetch.py:51\u001b[0m, in \u001b[0;36m<listcomp>\u001b[0;34m(.0)\u001b[0m\n\u001b[1;32m     49\u001b[0m         data \u001b[38;5;241m=\u001b[39m \u001b[38;5;28mself\u001b[39m\u001b[38;5;241m.\u001b[39mdataset\u001b[38;5;241m.\u001b[39m__getitems__(possibly_batched_index)\n\u001b[1;32m     50\u001b[0m     \u001b[38;5;28;01melse\u001b[39;00m:\n\u001b[0;32m---> 51\u001b[0m         data \u001b[38;5;241m=\u001b[39m [\u001b[38;5;28mself\u001b[39m\u001b[38;5;241m.\u001b[39mdataset[idx] \u001b[38;5;28;01mfor\u001b[39;00m idx \u001b[38;5;129;01min\u001b[39;00m possibly_batched_index]\n\u001b[1;32m     52\u001b[0m \u001b[38;5;28;01melse\u001b[39;00m:\n\u001b[1;32m     53\u001b[0m     data \u001b[38;5;241m=\u001b[39m \u001b[38;5;28mself\u001b[39m\u001b[38;5;241m.\u001b[39mdataset[possibly_batched_index]\n",
      "Cell \u001b[0;32mIn[34], line 27\u001b[0m, in \u001b[0;36mSVHNDataset.__getitem__\u001b[0;34m(self, idx)\u001b[0m\n\u001b[1;32m     26\u001b[0m \u001b[38;5;28;01mdef\u001b[39;00m \u001b[38;5;21m__getitem__\u001b[39m(\u001b[38;5;28mself\u001b[39m, idx):\n\u001b[0;32m---> 27\u001b[0m     image \u001b[38;5;241m=\u001b[39m \u001b[38;5;28mself\u001b[39m\u001b[38;5;241m.\u001b[39mdata[idx]\n\u001b[1;32m     28\u001b[0m     target \u001b[38;5;241m=\u001b[39m \u001b[38;5;28mself\u001b[39m\u001b[38;5;241m.\u001b[39mtargets[idx]\n\u001b[1;32m     29\u001b[0m     \u001b[38;5;28;01mreturn\u001b[39;00m image, target\n",
      "\u001b[0;31mIndexError\u001b[0m: index 69765 is out of bounds for axis 0 with size 62268"
     ]
    }
   ],
   "source": [
    "name = \"svhn\"\n",
    "# =========\n",
    "# MAKE SURE THAT \"result_dir\" IS A PATH TO A LOCAL FOLDER OR A GOOGLE COLAB FOLDER (DEFINED IN CELL 3)\n",
    "result_dir = \"./svhn_results\"  # (current folder)\n",
    "# =========\n",
    "if not (os.path.exists(result_dir)):\n",
    "    os.mkdir(result_dir)\n",
    "\n",
    "# Init ClassifierNN\n",
    "model = ClassifierNeuralNet(classnetSVHN)\n",
    "# Init OPTIMIZER (here we use ADAMAX)\n",
    "optimizer = torch.optim.Adamax(\n",
    "    [p for p in model.parameters() if p.requires_grad == True],\n",
    "    lr=lr,\n",
    "    weight_decay=wd,\n",
    ")\n",
    "# Training procedure\n",
    "nll_val, error_val = training(\n",
    "    name=result_dir + name,\n",
    "    max_patience=max_patience,\n",
    "    num_epochs=num_epochs,\n",
    "    model=model,\n",
    "    optimizer=optimizer,\n",
    "    training_loader=training_loader,\n",
    "    val_loader=val_loader,\n",
    ")\n",
    "# The final evaluation (on the test set)\n",
    "test_loss, test_error = evaluation(name=result_dir + name, test_loader=test_loader)\n",
    "# write the results to a file\n",
    "f = open(result_dir + name + \"_test_loss.txt\", \"w\")\n",
    "f.write(\"NLL: \" + str(test_loss) + \"\\nCE: \" + str(test_error))\n",
    "f.close()\n",
    "# create curves\n",
    "plot_curve(\n",
    "    result_dir + name,\n",
    "    nll_val,\n",
    "    file_name=\"_nll_val_curve.pdf\",\n",
    "    ylabel=\"nll\",\n",
    "    test_eval=test_loss,\n",
    ")\n",
    "plot_curve(\n",
    "    result_dir + name,\n",
    "    error_val,\n",
    "    file_name=\"_ca_val_curve.pdf\",\n",
    "    ylabel=\"ce\",\n",
    "    color=\"r-\",\n",
    "    test_eval=test_error,\n",
    ")"
   ]
  },
  {
   "cell_type": "markdown",
   "metadata": {},
   "source": [
    "#### I could not manage to go past this point."
   ]
  }
 ],
 "metadata": {
  "colab": {
   "provenance": [],
   "toc_visible": true
  },
  "kernelspec": {
   "display_name": "Python 3 (ipykernel)",
   "language": "python",
   "name": "python3"
  },
  "language_info": {
   "codemirror_mode": {
    "name": "ipython",
    "version": 3
   },
   "file_extension": ".py",
   "mimetype": "text/x-python",
   "name": "python",
   "nbconvert_exporter": "python",
   "pygments_lexer": "ipython3",
   "version": "3.11.7"
  }
 },
 "nbformat": 4,
 "nbformat_minor": 4
}
